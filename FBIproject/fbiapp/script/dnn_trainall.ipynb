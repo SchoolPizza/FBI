{
 "cells": [
  {
   "cell_type": "code",
   "execution_count": 1,
   "id": "9ca7c6cc",
   "metadata": {},
   "outputs": [],
   "source": [
    "import torch\n",
    "import pandas as pd\n",
    "import numpy as np\n",
    "from torch import nn, optim\n",
    "import torch.utils.data as data_utils\n",
    "from torch.utils.data import TensorDataset, DataLoader  # Dataset, DataLoader\n",
    "from sklearn.model_selection import train_test_split\n",
    "import matplotlib.pyplot as plt   # 도식화\n",
    "import tqdm   # 진행률 표시"
   ]
  },
  {
   "cell_type": "code",
   "execution_count": 3,
   "id": "4e398812",
   "metadata": {},
   "outputs": [],
   "source": [
    "## 자르고 합치기\n",
    "TrainDataSet = pd.read_csv(\"/opt/ml/segmentation/fbi/merge(no_kor_실내활동_no_id).csv\")\n",
    "\n",
    "## NAN 결측치 제거하기\n",
    "TrainDataSet = TrainDataSet.fillna(0)\n",
    "y_train = TrainDataSet[['실내활동']]\n",
    "TrainDataSet.drop(columns = '실내활동', axis=1,inplace=True)\n",
    "\n",
    "## 학습 데이터 => numpy로 변경\n",
    "x_train = TrainDataSet.loc[:]"
   ]
  },
  {
   "cell_type": "code",
   "execution_count": 4,
   "metadata": {},
   "outputs": [],
   "source": [
    "x_train.loc[(x_train.price <= 2500), 'price'] = 0\n",
    "x_train.loc[(x_train.price > 2500) & (x_train.price <= 3500), 'price'] = 1\n",
    "x_train.loc[(x_train.price > 3500) & (x_train.price <= 5000), 'price'] = 2\n",
    "x_train.loc[(x_train.price > 5000), 'price'] = 3"
   ]
  },
  {
   "cell_type": "code",
   "execution_count": 5,
   "metadata": {},
   "outputs": [
    {
     "name": "stdout",
     "output_type": "stream",
     "text": [
      "      type  top_sheet_ingredient  absorbent_core  made_in  price\n",
      "0       12                    27              30       31      0\n",
      "1       12                    27              30       31      0\n",
      "2       12                    26              29       31      0\n",
      "3       12                    26              29       31      0\n",
      "4       12                    26              29       31      1\n",
      "...    ...                   ...             ...      ...    ...\n",
      "4780    12                    25              28       32      1\n",
      "4781    12                    25              28       32      2\n",
      "4782    12                    25              28       31      1\n",
      "4783    12                    25              28       31      2\n",
      "4784    12                    25              28       32      3\n",
      "\n",
      "[4785 rows x 5 columns]\n"
     ]
    }
   ],
   "source": [
    "print(x_train)"
   ]
  },
  {
   "cell_type": "code",
   "execution_count": 6,
   "id": "d56cc9dd",
   "metadata": {},
   "outputs": [],
   "source": [
    "# y값 바꿔주기\n",
    "# y_train = y_train['냄새'].replace(['아주 약함', '약함', '보통(냄)', '강함', '아주 강함'],[0, 1, 2, 3, 4])\n",
    "# y_train = y_train['생리량'].replace(['아주 적음', '적음', '보통', '많음', '아주 많음'],[0, 1, 2, 3, 4])\n",
    "# y_train = y_train['생리통'].replace(['통증 없음', '조금 아픔', '아픔', '많이 아픔', '매우 아픔'],[0, 1, 2, 3, 4])\n",
    "# y_train = y_train['신체활동'].replace(['달리기', '자전거 타기', '헬스', '댄스', '요가'],[0, 1, 2, 3, 4])\n",
    "y_train = y_train['실내활동'].replace(['TV보기', '동영상 시청', '독서', '아이돌보기', '친구와 통화하기', '공부하기'],[0, 1, 2, 3, 4, 5])\n",
    "\n",
    "# output값 직접 지정하기\n",
    "x_train = np.array(x_train, dtype= np.float64)\n",
    "y_train = np.array(y_train, dtype= np.int64)\n",
    "\n",
    "\n",
    "x_train = torch.FloatTensor(x_train)\n",
    "y_train = torch.LongTensor(y_train)\n",
    "y_train = y_train.reshape(-1) ########"
   ]
  },
  {
   "cell_type": "code",
   "execution_count": 7,
   "id": "310a6a8e",
   "metadata": {},
   "outputs": [],
   "source": [
    "ds_train = TensorDataset(x_train, y_train)\n",
    "\n",
    "train_loader = DataLoader(ds_train, batch_size=128, shuffle=True)\n"
   ]
  },
  {
   "cell_type": "code",
   "execution_count": 8,
   "id": "37e13536",
   "metadata": {},
   "outputs": [],
   "source": [
    "k = 30\n",
    "net = nn.Sequential(\n",
    "    nn.Linear(5,k),\n",
    "    nn.ReLU(),\n",
    "    nn.BatchNorm1d(k),\n",
    "    nn.Linear(k,k),\n",
    "    nn.ReLU(),\n",
    "    nn.BatchNorm1d(k),\n",
    "    nn.Linear(k,k),\n",
    "    nn.ReLU(),\n",
    "    nn.BatchNorm1d(k),\n",
    "    nn.Linear(k,6),\n",
    ")\n"
   ]
  },
  {
   "cell_type": "code",
   "execution_count": 9,
   "id": "d533fe32",
   "metadata": {},
   "outputs": [],
   "source": [
    "# 훈련용 헬퍼 함수\n",
    "def train_net(net, train_loader,\n",
    "              optimizer_cls=optim.Adam,\n",
    "              loss_fn=nn.CrossEntropyLoss(),learning_rate=0.05,\n",
    "              n_iter=100, device=\"cpu\"):\n",
    "    train_losses = []\n",
    "    train_acc = []\n",
    "    val_acc = []\n",
    "    optimizer = optimizer_cls(net.parameters(),lr = learning_rate)\n",
    "    for epoch in range(n_iter):\n",
    "        running_loss = 0.0\n",
    "        # 신경망을 훈련 모드로 설정\n",
    "        net.train()\n",
    "        n = 0\n",
    "        n_acc = 0\n",
    "        # 시간이 많이 걸리므로 tqdm을 사용해서 진행바를 표시\n",
    "        for i, (xx, yy) in tqdm.tqdm(enumerate(train_loader),\n",
    "            total=len(train_loader)):\n",
    "            xx = xx.to(device)\n",
    "            yy = yy.to(device)\n",
    "            h = net(xx)\n",
    "            loss = loss_fn(h, (yy-min(y_train)))\n",
    "            optimizer.zero_grad()\n",
    "            loss.backward()\n",
    "            optimizer.step()\n",
    "            running_loss += loss.item()\n",
    "            n += len(xx)\n",
    "            _, y_pred = h.max(1)\n",
    "            n_acc += (yy == (y_pred+min(y_train))).float().sum().item()\n",
    "        train_losses.append(running_loss / i)\n",
    "        # 훈련 데이터의 예측 정확도\n",
    "        train_acc.append(n_acc / n)\n",
    "        \n",
    "        # print(\"softmax : \",torch.nn.functional.softmax(h, dim=1))        \n",
    "        print(\"softmax : \",torch.nn.functional.softmax(h, dim=1)[0] * 100)\n",
    "\n",
    "\n"
   ]
  },
  {
   "cell_type": "code",
   "execution_count": 10,
   "metadata": {},
   "outputs": [
    {
     "name": "stderr",
     "output_type": "stream",
     "text": [
      "100%|██████████| 38/38 [00:04<00:00,  9.60it/s]\n",
      "  3%|▎         | 1/38 [00:00<00:03,  9.72it/s]"
     ]
    },
    {
     "name": "stdout",
     "output_type": "stream",
     "text": [
      "softmax :  tensor([55.6433, 10.9714,  7.8685,  6.8638,  8.5635, 10.0894], device='cuda:0',\n",
      "       grad_fn=<MulBackward0>)\n"
     ]
    },
    {
     "name": "stderr",
     "output_type": "stream",
     "text": [
      "100%|██████████| 38/38 [00:04<00:00,  9.66it/s]\n",
      "  3%|▎         | 1/38 [00:00<00:03,  9.66it/s]"
     ]
    },
    {
     "name": "stdout",
     "output_type": "stream",
     "text": [
      "softmax :  tensor([76.1536, 10.7828,  2.1234,  4.4838,  3.1748,  3.2816], device='cuda:0',\n",
      "       grad_fn=<MulBackward0>)\n"
     ]
    },
    {
     "name": "stderr",
     "output_type": "stream",
     "text": [
      "100%|██████████| 38/38 [00:04<00:00,  8.31it/s]\n",
      "  3%|▎         | 1/38 [00:00<00:03,  9.72it/s]"
     ]
    },
    {
     "name": "stdout",
     "output_type": "stream",
     "text": [
      "softmax :  tensor([76.2695,  8.3485,  2.9173,  2.9807,  6.0246,  3.4594], device='cuda:0',\n",
      "       grad_fn=<MulBackward0>)\n"
     ]
    },
    {
     "name": "stderr",
     "output_type": "stream",
     "text": [
      "100%|██████████| 38/38 [00:04<00:00,  8.95it/s]\n",
      "  3%|▎         | 1/38 [00:00<00:03,  9.65it/s]"
     ]
    },
    {
     "name": "stdout",
     "output_type": "stream",
     "text": [
      "softmax :  tensor([74.3809, 10.7452,  2.9857,  2.8797,  5.4576,  3.5508], device='cuda:0',\n",
      "       grad_fn=<MulBackward0>)\n"
     ]
    },
    {
     "name": "stderr",
     "output_type": "stream",
     "text": [
      "100%|██████████| 38/38 [00:04<00:00,  9.61it/s]\n",
      "  3%|▎         | 1/38 [00:00<00:03,  9.55it/s]"
     ]
    },
    {
     "name": "stdout",
     "output_type": "stream",
     "text": [
      "softmax :  tensor([82.0440, 10.0455,  1.4214,  1.6346,  2.6946,  2.1599], device='cuda:0',\n",
      "       grad_fn=<MulBackward0>)\n"
     ]
    },
    {
     "name": "stderr",
     "output_type": "stream",
     "text": [
      "100%|██████████| 38/38 [00:04<00:00,  9.58it/s]\n",
      "  3%|▎         | 1/38 [00:00<00:06,  5.62it/s]"
     ]
    },
    {
     "name": "stdout",
     "output_type": "stream",
     "text": [
      "softmax :  tensor([54.6378, 17.3182,  3.8877,  6.5516, 12.5999,  5.0047], device='cuda:0',\n",
      "       grad_fn=<MulBackward0>)\n"
     ]
    },
    {
     "name": "stderr",
     "output_type": "stream",
     "text": [
      "100%|██████████| 38/38 [00:04<00:00,  9.72it/s]\n",
      "  3%|▎         | 1/38 [00:00<00:03,  9.81it/s]"
     ]
    },
    {
     "name": "stdout",
     "output_type": "stream",
     "text": [
      "softmax :  tensor([83.1520,  9.5005,  1.1101,  1.3155,  3.3159,  1.6060], device='cuda:0',\n",
      "       grad_fn=<MulBackward0>)\n"
     ]
    },
    {
     "name": "stderr",
     "output_type": "stream",
     "text": [
      "100%|██████████| 38/38 [00:04<00:00,  8.25it/s]\n",
      "  3%|▎         | 1/38 [00:00<00:03,  9.65it/s]"
     ]
    },
    {
     "name": "stdout",
     "output_type": "stream",
     "text": [
      "softmax :  tensor([81.7109,  7.4351,  1.3890,  2.3544,  5.1036,  2.0070], device='cuda:0',\n",
      "       grad_fn=<MulBackward0>)\n"
     ]
    },
    {
     "name": "stderr",
     "output_type": "stream",
     "text": [
      "100%|██████████| 38/38 [00:04<00:00,  9.02it/s]\n",
      "  3%|▎         | 1/38 [00:00<00:03,  9.84it/s]"
     ]
    },
    {
     "name": "stdout",
     "output_type": "stream",
     "text": [
      "softmax :  tensor([56.4559, 19.0983,  1.4407,  2.5751, 17.2064,  3.2236], device='cuda:0',\n",
      "       grad_fn=<MulBackward0>)\n"
     ]
    },
    {
     "name": "stderr",
     "output_type": "stream",
     "text": [
      "100%|██████████| 38/38 [00:04<00:00,  9.70it/s]\n",
      "  3%|▎         | 1/38 [00:00<00:06,  5.35it/s]"
     ]
    },
    {
     "name": "stdout",
     "output_type": "stream",
     "text": [
      "softmax :  tensor([83.6904,  9.5641,  0.7935,  1.0164,  3.6254,  1.3102], device='cuda:0',\n",
      "       grad_fn=<MulBackward0>)\n"
     ]
    },
    {
     "name": "stderr",
     "output_type": "stream",
     "text": [
      "100%|██████████| 38/38 [00:04<00:00,  9.35it/s]\n",
      "  3%|▎         | 1/38 [00:00<00:03,  9.71it/s]"
     ]
    },
    {
     "name": "stdout",
     "output_type": "stream",
     "text": [
      "softmax :  tensor([89.7539,  6.6818,  0.3743,  0.4965,  1.9418,  0.7517], device='cuda:0',\n",
      "       grad_fn=<MulBackward0>)\n"
     ]
    },
    {
     "name": "stderr",
     "output_type": "stream",
     "text": [
      "100%|██████████| 38/38 [00:04<00:00,  9.60it/s]\n",
      "  3%|▎         | 1/38 [00:00<00:03,  9.80it/s]"
     ]
    },
    {
     "name": "stdout",
     "output_type": "stream",
     "text": [
      "softmax :  tensor([79.5723, 11.7955,  1.0344,  1.4544,  4.3889,  1.7544], device='cuda:0',\n",
      "       grad_fn=<MulBackward0>)\n"
     ]
    },
    {
     "name": "stderr",
     "output_type": "stream",
     "text": [
      "100%|██████████| 38/38 [00:04<00:00,  9.34it/s]\n",
      "  3%|▎         | 1/38 [00:00<00:03,  9.80it/s]"
     ]
    },
    {
     "name": "stdout",
     "output_type": "stream",
     "text": [
      "softmax :  tensor([69.8955, 13.3409,  1.7151,  2.8813,  9.5413,  2.6259], device='cuda:0',\n",
      "       grad_fn=<MulBackward0>)\n"
     ]
    },
    {
     "name": "stderr",
     "output_type": "stream",
     "text": [
      "100%|██████████| 38/38 [00:04<00:00,  9.68it/s]\n",
      "  3%|▎         | 1/38 [00:00<00:03,  9.75it/s]"
     ]
    },
    {
     "name": "stdout",
     "output_type": "stream",
     "text": [
      "softmax :  tensor([81.2981, 11.6452,  0.7212,  1.1048,  3.9055,  1.3252], device='cuda:0',\n",
      "       grad_fn=<MulBackward0>)\n"
     ]
    },
    {
     "name": "stderr",
     "output_type": "stream",
     "text": [
      "100%|██████████| 38/38 [00:04<00:00,  9.63it/s]\n",
      "  3%|▎         | 1/38 [00:00<00:03,  9.64it/s]"
     ]
    },
    {
     "name": "stdout",
     "output_type": "stream",
     "text": [
      "softmax :  tensor([88.6149,  7.0731,  0.3282,  0.4642,  2.9066,  0.6131], device='cuda:0',\n",
      "       grad_fn=<MulBackward0>)\n"
     ]
    },
    {
     "name": "stderr",
     "output_type": "stream",
     "text": [
      "100%|██████████| 38/38 [00:04<00:00,  9.54it/s]\n",
      "  3%|▎         | 1/38 [00:00<00:04,  9.19it/s]"
     ]
    },
    {
     "name": "stdout",
     "output_type": "stream",
     "text": [
      "softmax :  tensor([91.2566,  3.7477,  0.3867,  0.9637,  3.3522,  0.2931], device='cuda:0',\n",
      "       grad_fn=<MulBackward0>)\n"
     ]
    },
    {
     "name": "stderr",
     "output_type": "stream",
     "text": [
      "100%|██████████| 38/38 [00:04<00:00,  9.74it/s]\n",
      "  3%|▎         | 1/38 [00:00<00:03,  9.76it/s]"
     ]
    },
    {
     "name": "stdout",
     "output_type": "stream",
     "text": [
      "softmax :  tensor([66.2217, 15.0833,  1.7528,  3.7618, 10.2718,  2.9086], device='cuda:0',\n",
      "       grad_fn=<MulBackward0>)\n"
     ]
    },
    {
     "name": "stderr",
     "output_type": "stream",
     "text": [
      "100%|██████████| 38/38 [00:04<00:00,  9.61it/s]\n",
      "  3%|▎         | 1/38 [00:00<00:06,  5.35it/s]"
     ]
    },
    {
     "name": "stdout",
     "output_type": "stream",
     "text": [
      "softmax :  tensor([89.1997,  8.2163,  0.2022,  0.3195,  1.6484,  0.4139], device='cuda:0',\n",
      "       grad_fn=<MulBackward0>)\n"
     ]
    },
    {
     "name": "stderr",
     "output_type": "stream",
     "text": [
      "100%|██████████| 38/38 [00:04<00:00,  9.51it/s]\n",
      "  3%|▎         | 1/38 [00:00<00:03,  9.55it/s]"
     ]
    },
    {
     "name": "stdout",
     "output_type": "stream",
     "text": [
      "softmax :  tensor([67.6511, 23.3332,  0.5613,  1.5232,  5.6190,  1.3121], device='cuda:0',\n",
      "       grad_fn=<MulBackward0>)\n"
     ]
    },
    {
     "name": "stderr",
     "output_type": "stream",
     "text": [
      "100%|██████████| 38/38 [00:04<00:00,  9.56it/s]\n",
      "  3%|▎         | 1/38 [00:00<00:03,  9.63it/s]"
     ]
    },
    {
     "name": "stdout",
     "output_type": "stream",
     "text": [
      "softmax :  tensor([62.8725, 16.8464,  1.6968,  4.1960, 11.6000,  2.7883], device='cuda:0',\n",
      "       grad_fn=<MulBackward0>)\n"
     ]
    },
    {
     "name": "stderr",
     "output_type": "stream",
     "text": [
      "100%|██████████| 38/38 [00:04<00:00,  7.78it/s]\n",
      "  3%|▎         | 1/38 [00:00<00:03,  9.63it/s]"
     ]
    },
    {
     "name": "stdout",
     "output_type": "stream",
     "text": [
      "softmax :  tensor([78.0118, 14.4578,  0.7485,  1.3977,  3.7653,  1.6189], device='cuda:0',\n",
      "       grad_fn=<MulBackward0>)\n"
     ]
    },
    {
     "name": "stderr",
     "output_type": "stream",
     "text": [
      "100%|██████████| 38/38 [00:04<00:00,  9.37it/s]\n",
      "  3%|▎         | 1/38 [00:00<00:03,  9.86it/s]"
     ]
    },
    {
     "name": "stdout",
     "output_type": "stream",
     "text": [
      "softmax :  tensor([88.3505,  8.7186,  0.2368,  0.3751,  1.8456,  0.4734], device='cuda:0',\n",
      "       grad_fn=<MulBackward0>)\n"
     ]
    },
    {
     "name": "stderr",
     "output_type": "stream",
     "text": [
      "100%|██████████| 38/38 [00:04<00:00,  9.65it/s]\n",
      "  3%|▎         | 1/38 [00:00<00:03,  9.70it/s]"
     ]
    },
    {
     "name": "stdout",
     "output_type": "stream",
     "text": [
      "softmax :  tensor([73.4926, 15.1001,  0.9632,  2.1290,  6.1032,  2.2119], device='cuda:0',\n",
      "       grad_fn=<MulBackward0>)\n"
     ]
    },
    {
     "name": "stderr",
     "output_type": "stream",
     "text": [
      "100%|██████████| 38/38 [00:04<00:00,  8.33it/s]\n",
      "  3%|▎         | 1/38 [00:00<00:03,  9.73it/s]"
     ]
    },
    {
     "name": "stdout",
     "output_type": "stream",
     "text": [
      "softmax :  tensor([84.6510, 10.8719,  0.3811,  0.6519,  2.7105,  0.7336], device='cuda:0',\n",
      "       grad_fn=<MulBackward0>)\n"
     ]
    },
    {
     "name": "stderr",
     "output_type": "stream",
     "text": [
      "100%|██████████| 38/38 [00:04<00:00,  8.05it/s]\n",
      "  3%|▎         | 1/38 [00:00<00:03,  9.67it/s]"
     ]
    },
    {
     "name": "stdout",
     "output_type": "stream",
     "text": [
      "softmax :  tensor([75.8701, 12.5990,  0.8756,  1.8961,  6.8546,  1.9046], device='cuda:0',\n",
      "       grad_fn=<MulBackward0>)\n"
     ]
    },
    {
     "name": "stderr",
     "output_type": "stream",
     "text": [
      "100%|██████████| 38/38 [00:04<00:00,  7.76it/s]\n",
      "  3%|▎         | 1/38 [00:00<00:03,  9.64it/s]"
     ]
    },
    {
     "name": "stdout",
     "output_type": "stream",
     "text": [
      "softmax :  tensor([84.2786, 10.4483,  0.4576,  0.8745,  2.9939,  0.9470], device='cuda:0',\n",
      "       grad_fn=<MulBackward0>)\n"
     ]
    },
    {
     "name": "stderr",
     "output_type": "stream",
     "text": [
      "100%|██████████| 38/38 [00:04<00:00,  9.30it/s]\n",
      "  3%|▎         | 1/38 [00:00<00:03,  9.68it/s]"
     ]
    },
    {
     "name": "stdout",
     "output_type": "stream",
     "text": [
      "softmax :  tensor([71.5875, 11.9857,  1.2155,  2.5336,  8.7653,  3.9123], device='cuda:0',\n",
      "       grad_fn=<MulBackward0>)\n"
     ]
    },
    {
     "name": "stderr",
     "output_type": "stream",
     "text": [
      "100%|██████████| 38/38 [00:04<00:00,  9.50it/s]\n",
      "  3%|▎         | 1/38 [00:00<00:03,  9.68it/s]"
     ]
    },
    {
     "name": "stdout",
     "output_type": "stream",
     "text": [
      "softmax :  tensor([61.3893, 16.7881,  1.7446,  4.2390, 12.6994,  3.1396], device='cuda:0',\n",
      "       grad_fn=<MulBackward0>)\n"
     ]
    },
    {
     "name": "stderr",
     "output_type": "stream",
     "text": [
      "100%|██████████| 38/38 [00:04<00:00,  9.60it/s]\n",
      "  3%|▎         | 1/38 [00:00<00:03,  9.66it/s]"
     ]
    },
    {
     "name": "stdout",
     "output_type": "stream",
     "text": [
      "softmax :  tensor([82.2443, 11.7670,  0.4065,  0.8412,  3.7003,  1.0406], device='cuda:0',\n",
      "       grad_fn=<MulBackward0>)\n"
     ]
    },
    {
     "name": "stderr",
     "output_type": "stream",
     "text": [
      "100%|██████████| 38/38 [00:04<00:00,  9.70it/s]\n",
      "  3%|▎         | 1/38 [00:00<00:03,  9.75it/s]"
     ]
    },
    {
     "name": "stdout",
     "output_type": "stream",
     "text": [
      "softmax :  tensor([79.2171,  9.6403,  0.6134,  1.5373,  7.1798,  1.8122], device='cuda:0',\n",
      "       grad_fn=<MulBackward0>)\n"
     ]
    },
    {
     "name": "stderr",
     "output_type": "stream",
     "text": [
      "100%|██████████| 38/38 [00:04<00:00,  9.14it/s]\n",
      "  3%|▎         | 1/38 [00:00<00:03,  9.68it/s]"
     ]
    },
    {
     "name": "stdout",
     "output_type": "stream",
     "text": [
      "softmax :  tensor([76.3772, 16.0689,  0.4465,  1.5276,  4.0304,  1.5494], device='cuda:0',\n",
      "       grad_fn=<MulBackward0>)\n"
     ]
    },
    {
     "name": "stderr",
     "output_type": "stream",
     "text": [
      "100%|██████████| 38/38 [00:04<00:00,  9.52it/s]\n",
      "  3%|▎         | 1/38 [00:00<00:03,  9.69it/s]"
     ]
    },
    {
     "name": "stdout",
     "output_type": "stream",
     "text": [
      "softmax :  tensor([88.8178,  5.9546,  0.3410,  0.7924,  3.2843,  0.8098], device='cuda:0',\n",
      "       grad_fn=<MulBackward0>)\n"
     ]
    },
    {
     "name": "stderr",
     "output_type": "stream",
     "text": [
      "100%|██████████| 38/38 [00:04<00:00,  9.68it/s]\n",
      "  3%|▎         | 1/38 [00:00<00:03,  9.73it/s]"
     ]
    },
    {
     "name": "stdout",
     "output_type": "stream",
     "text": [
      "softmax :  tensor([80.1075, 10.4089,  0.7632,  1.1546,  6.2759,  1.2899], device='cuda:0',\n",
      "       grad_fn=<MulBackward0>)\n"
     ]
    },
    {
     "name": "stderr",
     "output_type": "stream",
     "text": [
      "100%|██████████| 38/38 [00:04<00:00,  9.63it/s]\n",
      "  3%|▎         | 1/38 [00:00<00:06,  5.29it/s]"
     ]
    },
    {
     "name": "stdout",
     "output_type": "stream",
     "text": [
      "softmax :  tensor([77.2939, 13.2837,  0.5909,  1.4743,  5.8377,  1.5195], device='cuda:0',\n",
      "       grad_fn=<MulBackward0>)\n"
     ]
    },
    {
     "name": "stderr",
     "output_type": "stream",
     "text": [
      "100%|██████████| 38/38 [00:04<00:00,  9.34it/s]\n",
      "  3%|▎         | 1/38 [00:00<00:03,  9.75it/s]"
     ]
    },
    {
     "name": "stdout",
     "output_type": "stream",
     "text": [
      "softmax :  tensor([84.3986,  8.9579,  0.2653,  0.6525,  5.1332,  0.5924], device='cuda:0',\n",
      "       grad_fn=<MulBackward0>)\n"
     ]
    },
    {
     "name": "stderr",
     "output_type": "stream",
     "text": [
      "100%|██████████| 38/38 [00:04<00:00,  9.44it/s]\n",
      "  3%|▎         | 1/38 [00:00<00:03,  9.77it/s]"
     ]
    },
    {
     "name": "stdout",
     "output_type": "stream",
     "text": [
      "softmax :  tensor([74.6699, 12.8740,  0.8066,  2.4471,  7.1430,  2.0594], device='cuda:0',\n",
      "       grad_fn=<MulBackward0>)\n"
     ]
    },
    {
     "name": "stderr",
     "output_type": "stream",
     "text": [
      "100%|██████████| 38/38 [00:04<00:00,  9.60it/s]\n",
      "  3%|▎         | 1/38 [00:00<00:03,  9.71it/s]"
     ]
    },
    {
     "name": "stdout",
     "output_type": "stream",
     "text": [
      "softmax :  tensor([65.7647, 15.3168,  1.4738,  3.7335, 10.3602,  3.3511], device='cuda:0',\n",
      "       grad_fn=<MulBackward0>)\n"
     ]
    },
    {
     "name": "stderr",
     "output_type": "stream",
     "text": [
      "100%|██████████| 38/38 [00:04<00:00,  9.75it/s]\n",
      "  3%|▎         | 1/38 [00:00<00:03,  9.79it/s]"
     ]
    },
    {
     "name": "stdout",
     "output_type": "stream",
     "text": [
      "softmax :  tensor([72.4402, 14.5197,  0.7959,  2.3694,  7.4837,  2.3910], device='cuda:0',\n",
      "       grad_fn=<MulBackward0>)\n"
     ]
    },
    {
     "name": "stderr",
     "output_type": "stream",
     "text": [
      "100%|██████████| 38/38 [00:04<00:00,  9.05it/s]\n",
      "  3%|▎         | 1/38 [00:00<00:03,  9.70it/s]"
     ]
    },
    {
     "name": "stdout",
     "output_type": "stream",
     "text": [
      "softmax :  tensor([72.1000, 14.2786,  0.9373,  2.5477,  7.6376,  2.4988], device='cuda:0',\n",
      "       grad_fn=<MulBackward0>)\n"
     ]
    },
    {
     "name": "stderr",
     "output_type": "stream",
     "text": [
      "100%|██████████| 38/38 [00:04<00:00,  9.42it/s]\n",
      "  3%|▎         | 1/38 [00:00<00:03,  9.68it/s]"
     ]
    },
    {
     "name": "stdout",
     "output_type": "stream",
     "text": [
      "softmax :  tensor([77.1259, 13.2122,  0.6705,  1.8104,  5.5673,  1.6138], device='cuda:0',\n",
      "       grad_fn=<MulBackward0>)\n"
     ]
    },
    {
     "name": "stderr",
     "output_type": "stream",
     "text": [
      "100%|██████████| 38/38 [00:04<00:00,  9.64it/s]\n",
      "  3%|▎         | 1/38 [00:00<00:03,  9.72it/s]"
     ]
    },
    {
     "name": "stdout",
     "output_type": "stream",
     "text": [
      "softmax :  tensor([77.3778, 10.8761,  0.6639,  1.4415,  7.6529,  1.9877], device='cuda:0',\n",
      "       grad_fn=<MulBackward0>)\n"
     ]
    },
    {
     "name": "stderr",
     "output_type": "stream",
     "text": [
      "100%|██████████| 38/38 [00:04<00:00,  9.71it/s]\n",
      "  3%|▎         | 1/38 [00:00<00:03,  9.68it/s]"
     ]
    },
    {
     "name": "stdout",
     "output_type": "stream",
     "text": [
      "softmax :  tensor([70.9067, 14.3234,  1.0347,  2.9165,  8.3697,  2.4488], device='cuda:0',\n",
      "       grad_fn=<MulBackward0>)\n"
     ]
    },
    {
     "name": "stderr",
     "output_type": "stream",
     "text": [
      "100%|██████████| 38/38 [00:04<00:00,  9.02it/s]\n",
      "  3%|▎         | 1/38 [00:00<00:03,  9.59it/s]"
     ]
    },
    {
     "name": "stdout",
     "output_type": "stream",
     "text": [
      "softmax :  tensor([78.9234, 12.8012,  0.6001,  1.2505,  5.1670,  1.2577], device='cuda:0',\n",
      "       grad_fn=<MulBackward0>)\n"
     ]
    },
    {
     "name": "stderr",
     "output_type": "stream",
     "text": [
      "100%|██████████| 38/38 [00:04<00:00,  9.37it/s]\n",
      "  3%|▎         | 1/38 [00:00<00:03,  9.83it/s]"
     ]
    },
    {
     "name": "stdout",
     "output_type": "stream",
     "text": [
      "softmax :  tensor([78.9532, 13.1474,  0.2508,  1.3150,  5.1801,  1.1536], device='cuda:0',\n",
      "       grad_fn=<MulBackward0>)\n"
     ]
    },
    {
     "name": "stderr",
     "output_type": "stream",
     "text": [
      "100%|██████████| 38/38 [00:04<00:00,  9.71it/s]\n",
      "  3%|▎         | 1/38 [00:00<00:03,  9.78it/s]"
     ]
    },
    {
     "name": "stdout",
     "output_type": "stream",
     "text": [
      "softmax :  tensor([85.5638, 10.0507,  0.2986,  0.6475,  2.7473,  0.6921], device='cuda:0',\n",
      "       grad_fn=<MulBackward0>)\n"
     ]
    },
    {
     "name": "stderr",
     "output_type": "stream",
     "text": [
      "100%|██████████| 38/38 [00:04<00:00,  9.71it/s]\n",
      "  3%|▎         | 1/38 [00:00<00:03,  9.77it/s]"
     ]
    },
    {
     "name": "stdout",
     "output_type": "stream",
     "text": [
      "softmax :  tensor([73.3401, 16.3453,  0.5083,  1.8650,  6.0813,  1.8600], device='cuda:0',\n",
      "       grad_fn=<MulBackward0>)\n"
     ]
    },
    {
     "name": "stderr",
     "output_type": "stream",
     "text": [
      "100%|██████████| 38/38 [00:04<00:00,  9.68it/s]\n",
      "  3%|▎         | 1/38 [00:00<00:03,  9.70it/s]"
     ]
    },
    {
     "name": "stdout",
     "output_type": "stream",
     "text": [
      "softmax :  tensor([77.9592, 14.0932,  0.4346,  1.2335,  4.9816,  1.2979], device='cuda:0',\n",
      "       grad_fn=<MulBackward0>)\n"
     ]
    },
    {
     "name": "stderr",
     "output_type": "stream",
     "text": [
      "100%|██████████| 38/38 [00:04<00:00,  9.78it/s]\n",
      "  3%|▎         | 1/38 [00:00<00:03,  9.80it/s]"
     ]
    },
    {
     "name": "stdout",
     "output_type": "stream",
     "text": [
      "softmax :  tensor([80.7270, 10.4087,  0.2495,  0.8577,  6.7967,  0.9605], device='cuda:0',\n",
      "       grad_fn=<MulBackward0>)\n"
     ]
    },
    {
     "name": "stderr",
     "output_type": "stream",
     "text": [
      "100%|██████████| 38/38 [00:04<00:00,  9.72it/s]\n",
      "  3%|▎         | 1/38 [00:00<00:06,  5.64it/s]"
     ]
    },
    {
     "name": "stdout",
     "output_type": "stream",
     "text": [
      "softmax :  tensor([75.0103, 11.7667,  0.5391,  1.5524,  9.1146,  2.0168], device='cuda:0',\n",
      "       grad_fn=<MulBackward0>)\n"
     ]
    },
    {
     "name": "stderr",
     "output_type": "stream",
     "text": [
      "100%|██████████| 38/38 [00:04<00:00,  9.68it/s]\n",
      "  3%|▎         | 1/38 [00:00<00:03,  9.76it/s]"
     ]
    },
    {
     "name": "stdout",
     "output_type": "stream",
     "text": [
      "softmax :  tensor([76.7385, 10.1889,  0.4495,  1.8692,  8.8730,  1.8809], device='cuda:0',\n",
      "       grad_fn=<MulBackward0>)\n"
     ]
    },
    {
     "name": "stderr",
     "output_type": "stream",
     "text": [
      "100%|██████████| 38/38 [00:04<00:00,  9.61it/s]\n",
      "  3%|▎         | 1/38 [00:00<00:03,  9.78it/s]"
     ]
    },
    {
     "name": "stdout",
     "output_type": "stream",
     "text": [
      "softmax :  tensor([67.6353, 15.6668,  1.1441,  3.4583,  9.4107,  2.6847], device='cuda:0',\n",
      "       grad_fn=<MulBackward0>)\n"
     ]
    },
    {
     "name": "stderr",
     "output_type": "stream",
     "text": [
      "100%|██████████| 38/38 [00:04<00:00,  7.99it/s]\n",
      "  3%|▎         | 1/38 [00:00<00:03,  9.74it/s]"
     ]
    },
    {
     "name": "stdout",
     "output_type": "stream",
     "text": [
      "softmax :  tensor([80.9460, 13.2133,  0.3499,  1.0568,  3.5056,  0.9284], device='cuda:0',\n",
      "       grad_fn=<MulBackward0>)\n"
     ]
    },
    {
     "name": "stderr",
     "output_type": "stream",
     "text": [
      "100%|██████████| 38/38 [00:04<00:00,  9.68it/s]\n",
      "  3%|▎         | 1/38 [00:00<00:03,  9.69it/s]"
     ]
    },
    {
     "name": "stdout",
     "output_type": "stream",
     "text": [
      "softmax :  tensor([76.0132, 12.4196,  0.5368,  1.6300,  7.4675,  1.9330], device='cuda:0',\n",
      "       grad_fn=<MulBackward0>)\n"
     ]
    },
    {
     "name": "stderr",
     "output_type": "stream",
     "text": [
      "100%|██████████| 38/38 [00:04<00:00,  9.73it/s]\n",
      "  3%|▎         | 1/38 [00:00<00:03,  9.76it/s]"
     ]
    },
    {
     "name": "stdout",
     "output_type": "stream",
     "text": [
      "softmax :  tensor([80.2280, 10.9896,  0.4065,  0.9931,  6.1781,  1.2046], device='cuda:0',\n",
      "       grad_fn=<MulBackward0>)\n"
     ]
    },
    {
     "name": "stderr",
     "output_type": "stream",
     "text": [
      "100%|██████████| 38/38 [00:04<00:00,  7.93it/s]\n",
      "  3%|▎         | 1/38 [00:00<00:03,  9.54it/s]"
     ]
    },
    {
     "name": "stdout",
     "output_type": "stream",
     "text": [
      "softmax :  tensor([61.7389, 19.8845,  0.2339,  5.5314, 12.3406,  0.2708], device='cuda:0',\n",
      "       grad_fn=<MulBackward0>)\n"
     ]
    },
    {
     "name": "stderr",
     "output_type": "stream",
     "text": [
      "100%|██████████| 38/38 [00:04<00:00,  9.72it/s]\n",
      "  3%|▎         | 1/38 [00:00<00:03,  9.78it/s]"
     ]
    },
    {
     "name": "stdout",
     "output_type": "stream",
     "text": [
      "softmax :  tensor([57.4264, 17.9731,  1.8503,  4.4158, 13.7828,  4.5515], device='cuda:0',\n",
      "       grad_fn=<MulBackward0>)\n"
     ]
    },
    {
     "name": "stderr",
     "output_type": "stream",
     "text": [
      "100%|██████████| 38/38 [00:04<00:00,  9.77it/s]\n",
      "  3%|▎         | 1/38 [00:00<00:03,  9.72it/s]"
     ]
    },
    {
     "name": "stdout",
     "output_type": "stream",
     "text": [
      "softmax :  tensor([69.2867, 13.9751,  1.3175,  3.1732,  9.2532,  2.9942], device='cuda:0',\n",
      "       grad_fn=<MulBackward0>)\n"
     ]
    },
    {
     "name": "stderr",
     "output_type": "stream",
     "text": [
      "100%|██████████| 38/38 [00:04<00:00,  7.98it/s]\n",
      "  3%|▎         | 1/38 [00:00<00:03,  9.72it/s]"
     ]
    },
    {
     "name": "stdout",
     "output_type": "stream",
     "text": [
      "softmax :  tensor([88.3595,  9.0549,  0.0912,  0.3081,  1.6961,  0.4903], device='cuda:0',\n",
      "       grad_fn=<MulBackward0>)\n"
     ]
    },
    {
     "name": "stderr",
     "output_type": "stream",
     "text": [
      "100%|██████████| 38/38 [00:04<00:00,  9.64it/s]\n",
      "  3%|▎         | 1/38 [00:00<00:03,  9.75it/s]"
     ]
    },
    {
     "name": "stdout",
     "output_type": "stream",
     "text": [
      "softmax :  tensor([79.5443,  9.0036,  0.5039,  1.6144,  7.2365,  2.0973], device='cuda:0',\n",
      "       grad_fn=<MulBackward0>)\n"
     ]
    },
    {
     "name": "stderr",
     "output_type": "stream",
     "text": [
      "100%|██████████| 38/38 [00:04<00:00,  9.67it/s]\n",
      "  3%|▎         | 1/38 [00:00<00:03,  9.77it/s]"
     ]
    },
    {
     "name": "stdout",
     "output_type": "stream",
     "text": [
      "softmax :  tensor([84.9224,  9.9277,  0.2614,  0.7601,  3.2016,  0.9269], device='cuda:0',\n",
      "       grad_fn=<MulBackward0>)\n"
     ]
    },
    {
     "name": "stderr",
     "output_type": "stream",
     "text": [
      "100%|██████████| 38/38 [00:04<00:00,  7.91it/s]\n",
      "  3%|▎         | 1/38 [00:00<00:03,  9.78it/s]"
     ]
    },
    {
     "name": "stdout",
     "output_type": "stream",
     "text": [
      "softmax :  tensor([71.4068, 14.7111,  0.7722,  2.7198,  8.2544,  2.1356], device='cuda:0',\n",
      "       grad_fn=<MulBackward0>)\n"
     ]
    },
    {
     "name": "stderr",
     "output_type": "stream",
     "text": [
      "100%|██████████| 38/38 [00:04<00:00,  9.59it/s]\n",
      "  3%|▎         | 1/38 [00:00<00:03,  9.79it/s]"
     ]
    },
    {
     "name": "stdout",
     "output_type": "stream",
     "text": [
      "softmax :  tensor([83.9361, 10.9500,  0.2074,  0.7004,  3.2517,  0.9544], device='cuda:0',\n",
      "       grad_fn=<MulBackward0>)\n"
     ]
    },
    {
     "name": "stderr",
     "output_type": "stream",
     "text": [
      "100%|██████████| 38/38 [00:04<00:00,  9.62it/s]\n",
      "  3%|▎         | 1/38 [00:00<00:03,  9.68it/s]"
     ]
    },
    {
     "name": "stdout",
     "output_type": "stream",
     "text": [
      "softmax :  tensor([85.3455,  9.8314,  0.2153,  0.6671,  3.0779,  0.8627], device='cuda:0',\n",
      "       grad_fn=<MulBackward0>)\n"
     ]
    },
    {
     "name": "stderr",
     "output_type": "stream",
     "text": [
      "100%|██████████| 38/38 [00:04<00:00,  7.87it/s]\n",
      "  3%|▎         | 1/38 [00:00<00:03,  9.71it/s]"
     ]
    },
    {
     "name": "stdout",
     "output_type": "stream",
     "text": [
      "softmax :  tensor([59.7735, 18.8871,  1.2567,  4.4658, 12.1743,  3.4426], device='cuda:0',\n",
      "       grad_fn=<MulBackward0>)\n"
     ]
    },
    {
     "name": "stderr",
     "output_type": "stream",
     "text": [
      "100%|██████████| 38/38 [00:04<00:00,  9.55it/s]\n",
      "  3%|▎         | 1/38 [00:00<00:03,  9.55it/s]"
     ]
    },
    {
     "name": "stdout",
     "output_type": "stream",
     "text": [
      "softmax :  tensor([68.4158, 15.4773,  1.1189,  3.1822,  9.1896,  2.6162], device='cuda:0',\n",
      "       grad_fn=<MulBackward0>)\n"
     ]
    },
    {
     "name": "stderr",
     "output_type": "stream",
     "text": [
      "100%|██████████| 38/38 [00:04<00:00,  9.48it/s]\n",
      "  3%|▎         | 1/38 [00:00<00:03,  9.70it/s]"
     ]
    },
    {
     "name": "stdout",
     "output_type": "stream",
     "text": [
      "softmax :  tensor([63.4160, 17.1042,  1.4275,  4.0603, 10.5028,  3.4892], device='cuda:0',\n",
      "       grad_fn=<MulBackward0>)\n"
     ]
    },
    {
     "name": "stderr",
     "output_type": "stream",
     "text": [
      "100%|██████████| 38/38 [00:04<00:00,  7.85it/s]\n",
      "  3%|▎         | 1/38 [00:00<00:03,  9.74it/s]"
     ]
    },
    {
     "name": "stdout",
     "output_type": "stream",
     "text": [
      "softmax :  tensor([83.7728, 10.4920,  0.2962,  0.8124,  3.5636,  1.0630], device='cuda:0',\n",
      "       grad_fn=<MulBackward0>)\n"
     ]
    },
    {
     "name": "stderr",
     "output_type": "stream",
     "text": [
      "100%|██████████| 38/38 [00:03<00:00,  9.78it/s]\n",
      "  3%|▎         | 1/38 [00:00<00:03,  9.79it/s]"
     ]
    },
    {
     "name": "stdout",
     "output_type": "stream",
     "text": [
      "softmax :  tensor([71.7666, 14.2509,  0.4947,  1.8239,  9.3005,  2.3634], device='cuda:0',\n",
      "       grad_fn=<MulBackward0>)\n"
     ]
    },
    {
     "name": "stderr",
     "output_type": "stream",
     "text": [
      "100%|██████████| 38/38 [00:04<00:00,  9.76it/s]\n",
      "  3%|▎         | 1/38 [00:00<00:03,  9.81it/s]"
     ]
    },
    {
     "name": "stdout",
     "output_type": "stream",
     "text": [
      "softmax :  tensor([65.4959, 16.9392,  1.2412,  3.6340,  9.7056,  2.9841], device='cuda:0',\n",
      "       grad_fn=<MulBackward0>)\n"
     ]
    },
    {
     "name": "stderr",
     "output_type": "stream",
     "text": [
      "100%|██████████| 38/38 [00:04<00:00,  7.95it/s]\n",
      "  3%|▎         | 1/38 [00:00<00:03,  9.80it/s]"
     ]
    },
    {
     "name": "stdout",
     "output_type": "stream",
     "text": [
      "softmax :  tensor([81.9950, 11.6314,  0.3464,  0.9983,  3.9116,  1.1173], device='cuda:0',\n",
      "       grad_fn=<MulBackward0>)\n"
     ]
    },
    {
     "name": "stderr",
     "output_type": "stream",
     "text": [
      "100%|██████████| 38/38 [00:04<00:00,  9.66it/s]\n",
      "  3%|▎         | 1/38 [00:00<00:03,  9.74it/s]"
     ]
    },
    {
     "name": "stdout",
     "output_type": "stream",
     "text": [
      "softmax :  tensor([73.7644, 11.5971,  0.3197,  3.4739,  9.5259,  1.3190], device='cuda:0',\n",
      "       grad_fn=<MulBackward0>)\n"
     ]
    },
    {
     "name": "stderr",
     "output_type": "stream",
     "text": [
      "100%|██████████| 38/38 [00:04<00:00,  9.65it/s]\n",
      "  3%|▎         | 1/38 [00:00<00:03,  9.80it/s]"
     ]
    },
    {
     "name": "stdout",
     "output_type": "stream",
     "text": [
      "softmax :  tensor([76.7682, 13.2077,  0.5732,  1.8611,  6.0067,  1.5831], device='cuda:0',\n",
      "       grad_fn=<MulBackward0>)\n"
     ]
    },
    {
     "name": "stderr",
     "output_type": "stream",
     "text": [
      "100%|██████████| 38/38 [00:04<00:00,  7.95it/s]\n",
      "  3%|▎         | 1/38 [00:00<00:03,  9.72it/s]"
     ]
    },
    {
     "name": "stdout",
     "output_type": "stream",
     "text": [
      "softmax :  tensor([75.5678, 13.1188,  0.6850,  2.0009,  6.7152,  1.9123], device='cuda:0',\n",
      "       grad_fn=<MulBackward0>)\n"
     ]
    },
    {
     "name": "stderr",
     "output_type": "stream",
     "text": [
      "100%|██████████| 38/38 [00:03<00:00,  9.73it/s]\n",
      "  3%|▎         | 1/38 [00:00<00:03,  9.82it/s]"
     ]
    },
    {
     "name": "stdout",
     "output_type": "stream",
     "text": [
      "softmax :  tensor([80.5385, 12.2187,  0.4121,  1.1424,  4.4393,  1.2490], device='cuda:0',\n",
      "       grad_fn=<MulBackward0>)\n"
     ]
    },
    {
     "name": "stderr",
     "output_type": "stream",
     "text": [
      "100%|██████████| 38/38 [00:04<00:00,  9.53it/s]\n",
      "  3%|▎         | 1/38 [00:00<00:03,  9.56it/s]"
     ]
    },
    {
     "name": "stdout",
     "output_type": "stream",
     "text": [
      "softmax :  tensor([79.7563, 12.5326,  0.3980,  1.2984,  4.7437,  1.2710], device='cuda:0',\n",
      "       grad_fn=<MulBackward0>)\n"
     ]
    },
    {
     "name": "stderr",
     "output_type": "stream",
     "text": [
      "100%|██████████| 38/38 [00:04<00:00,  7.93it/s]\n",
      "  3%|▎         | 1/38 [00:00<00:03,  9.70it/s]"
     ]
    },
    {
     "name": "stdout",
     "output_type": "stream",
     "text": [
      "softmax :  tensor([88.6114,  8.9301,  0.1102,  0.3034,  1.5457,  0.4991], device='cuda:0',\n",
      "       grad_fn=<MulBackward0>)\n"
     ]
    },
    {
     "name": "stderr",
     "output_type": "stream",
     "text": [
      "100%|██████████| 38/38 [00:04<00:00,  9.58it/s]\n",
      "  3%|▎         | 1/38 [00:00<00:03,  9.75it/s]"
     ]
    },
    {
     "name": "stdout",
     "output_type": "stream",
     "text": [
      "softmax :  tensor([8.9724e+01, 8.4583e+00, 8.3176e-02, 2.1599e-01, 1.1273e+00, 3.9069e-01],\n",
      "       device='cuda:0', grad_fn=<MulBackward0>)\n"
     ]
    },
    {
     "name": "stderr",
     "output_type": "stream",
     "text": [
      "100%|██████████| 38/38 [00:04<00:00,  9.58it/s]\n",
      "  3%|▎         | 1/38 [00:00<00:03,  9.77it/s]"
     ]
    },
    {
     "name": "stdout",
     "output_type": "stream",
     "text": [
      "softmax :  tensor([77.2019, 15.9205,  0.3983,  1.1103,  4.1727,  1.1963], device='cuda:0',\n",
      "       grad_fn=<MulBackward0>)\n"
     ]
    },
    {
     "name": "stderr",
     "output_type": "stream",
     "text": [
      "100%|██████████| 38/38 [00:04<00:00,  8.02it/s]\n",
      "  3%|▎         | 1/38 [00:00<00:03,  9.67it/s]"
     ]
    },
    {
     "name": "stdout",
     "output_type": "stream",
     "text": [
      "softmax :  tensor([87.5710,  9.7037,  0.1221,  0.3461,  1.6444,  0.6127], device='cuda:0',\n",
      "       grad_fn=<MulBackward0>)\n"
     ]
    },
    {
     "name": "stderr",
     "output_type": "stream",
     "text": [
      "100%|██████████| 38/38 [00:04<00:00,  9.61it/s]\n",
      "  3%|▎         | 1/38 [00:00<00:03,  9.69it/s]"
     ]
    },
    {
     "name": "stdout",
     "output_type": "stream",
     "text": [
      "softmax :  tensor([70.9030, 14.8791,  0.6805,  1.8238,  9.0638,  2.6498], device='cuda:0',\n",
      "       grad_fn=<MulBackward0>)\n"
     ]
    },
    {
     "name": "stderr",
     "output_type": "stream",
     "text": [
      "100%|██████████| 38/38 [00:04<00:00,  9.60it/s]\n",
      "  3%|▎         | 1/38 [00:00<00:03,  9.73it/s]"
     ]
    },
    {
     "name": "stdout",
     "output_type": "stream",
     "text": [
      "softmax :  tensor([76.7366, 12.9254,  0.6465,  1.9155,  5.8798,  1.8962], device='cuda:0',\n",
      "       grad_fn=<MulBackward0>)\n"
     ]
    },
    {
     "name": "stderr",
     "output_type": "stream",
     "text": [
      "100%|██████████| 38/38 [00:04<00:00,  7.69it/s]\n",
      "  3%|▎         | 1/38 [00:00<00:03,  9.56it/s]"
     ]
    },
    {
     "name": "stdout",
     "output_type": "stream",
     "text": [
      "softmax :  tensor([77.0380, 12.7499,  0.6951,  1.7283,  5.8175,  1.9712], device='cuda:0',\n",
      "       grad_fn=<MulBackward0>)\n"
     ]
    },
    {
     "name": "stderr",
     "output_type": "stream",
     "text": [
      "100%|██████████| 38/38 [00:04<00:00,  9.61it/s]\n",
      "  3%|▎         | 1/38 [00:00<00:03,  9.70it/s]"
     ]
    },
    {
     "name": "stdout",
     "output_type": "stream",
     "text": [
      "softmax :  tensor([70.9471, 13.3980,  0.9637,  2.9195,  9.1046,  2.6671], device='cuda:0',\n",
      "       grad_fn=<MulBackward0>)\n"
     ]
    },
    {
     "name": "stderr",
     "output_type": "stream",
     "text": [
      "100%|██████████| 38/38 [00:04<00:00,  9.46it/s]\n",
      "  3%|▎         | 1/38 [00:00<00:03,  9.82it/s]"
     ]
    },
    {
     "name": "stdout",
     "output_type": "stream",
     "text": [
      "softmax :  tensor([87.7821,  8.6286,  0.1987,  0.4816,  2.1846,  0.7245], device='cuda:0',\n",
      "       grad_fn=<MulBackward0>)\n"
     ]
    },
    {
     "name": "stderr",
     "output_type": "stream",
     "text": [
      "100%|██████████| 38/38 [00:04<00:00,  7.89it/s]\n",
      "  3%|▎         | 1/38 [00:00<00:03,  9.60it/s]"
     ]
    },
    {
     "name": "stdout",
     "output_type": "stream",
     "text": [
      "softmax :  tensor([76.0033, 10.8841,  0.4909,  1.8308,  8.6436,  2.1473], device='cuda:0',\n",
      "       grad_fn=<MulBackward0>)\n"
     ]
    },
    {
     "name": "stderr",
     "output_type": "stream",
     "text": [
      "100%|██████████| 38/38 [00:04<00:00,  9.62it/s]\n",
      "  3%|▎         | 1/38 [00:00<00:03,  9.76it/s]"
     ]
    },
    {
     "name": "stdout",
     "output_type": "stream",
     "text": [
      "softmax :  tensor([82.1166, 11.7437,  0.3579,  0.9882,  3.5662,  1.2275], device='cuda:0',\n",
      "       grad_fn=<MulBackward0>)\n"
     ]
    },
    {
     "name": "stderr",
     "output_type": "stream",
     "text": [
      "100%|██████████| 38/38 [00:04<00:00,  9.60it/s]\n",
      "  3%|▎         | 1/38 [00:00<00:03,  9.73it/s]"
     ]
    },
    {
     "name": "stdout",
     "output_type": "stream",
     "text": [
      "softmax :  tensor([75.8241, 10.9945,  0.3913,  1.9881,  8.9605,  1.8416], device='cuda:0',\n",
      "       grad_fn=<MulBackward0>)\n"
     ]
    },
    {
     "name": "stderr",
     "output_type": "stream",
     "text": [
      "100%|██████████| 38/38 [00:04<00:00,  7.81it/s]\n",
      "  3%|▎         | 1/38 [00:00<00:03,  9.64it/s]"
     ]
    },
    {
     "name": "stdout",
     "output_type": "stream",
     "text": [
      "softmax :  tensor([65.2707, 15.9272,  1.2171,  3.5714, 10.7825,  3.2310], device='cuda:0',\n",
      "       grad_fn=<MulBackward0>)\n"
     ]
    },
    {
     "name": "stderr",
     "output_type": "stream",
     "text": [
      "100%|██████████| 38/38 [00:04<00:00,  9.57it/s]\n",
      "  3%|▎         | 1/38 [00:00<00:03,  9.77it/s]"
     ]
    },
    {
     "name": "stdout",
     "output_type": "stream",
     "text": [
      "softmax :  tensor([76.3787, 13.3295,  0.5965,  1.8069,  6.0677,  1.8207], device='cuda:0',\n",
      "       grad_fn=<MulBackward0>)\n"
     ]
    },
    {
     "name": "stderr",
     "output_type": "stream",
     "text": [
      "100%|██████████| 38/38 [00:04<00:00,  9.62it/s]\n",
      "  3%|▎         | 1/38 [00:00<00:03,  9.76it/s]"
     ]
    },
    {
     "name": "stdout",
     "output_type": "stream",
     "text": [
      "softmax :  tensor([67.3515, 16.2161,  0.1749,  3.1561, 11.7281,  1.3733], device='cuda:0',\n",
      "       grad_fn=<MulBackward0>)\n"
     ]
    },
    {
     "name": "stderr",
     "output_type": "stream",
     "text": [
      "100%|██████████| 38/38 [00:04<00:00,  7.95it/s]\n",
      "  3%|▎         | 1/38 [00:00<00:03,  9.65it/s]"
     ]
    },
    {
     "name": "stdout",
     "output_type": "stream",
     "text": [
      "softmax :  tensor([82.5125,  9.5539,  0.2552,  1.0809,  5.1321,  1.4653], device='cuda:0',\n",
      "       grad_fn=<MulBackward0>)\n"
     ]
    },
    {
     "name": "stderr",
     "output_type": "stream",
     "text": [
      "100%|██████████| 38/38 [00:04<00:00,  9.53it/s]\n",
      "  3%|▎         | 1/38 [00:00<00:03,  9.65it/s]"
     ]
    },
    {
     "name": "stdout",
     "output_type": "stream",
     "text": [
      "softmax :  tensor([75.8088, 10.3950,  0.6877,  2.2924,  8.1504,  2.6658], device='cuda:0',\n",
      "       grad_fn=<MulBackward0>)\n"
     ]
    },
    {
     "name": "stderr",
     "output_type": "stream",
     "text": [
      "100%|██████████| 38/38 [00:04<00:00,  9.68it/s]\n",
      "  3%|▎         | 1/38 [00:00<00:03,  9.64it/s]"
     ]
    },
    {
     "name": "stdout",
     "output_type": "stream",
     "text": [
      "softmax :  tensor([78.3993, 10.0405,  0.2386,  1.1583,  8.5233,  1.6400], device='cuda:0',\n",
      "       grad_fn=<MulBackward0>)\n"
     ]
    },
    {
     "name": "stderr",
     "output_type": "stream",
     "text": [
      "100%|██████████| 38/38 [00:04<00:00,  7.90it/s]\n",
      "  3%|▎         | 1/38 [00:00<00:03,  9.66it/s]"
     ]
    },
    {
     "name": "stdout",
     "output_type": "stream",
     "text": [
      "softmax :  tensor([68.9513, 15.5402,  0.0780,  3.6988, 11.6342,  0.0974], device='cuda:0',\n",
      "       grad_fn=<MulBackward0>)\n"
     ]
    },
    {
     "name": "stderr",
     "output_type": "stream",
     "text": [
      "100%|██████████| 38/38 [00:04<00:00,  9.66it/s]\n",
      "  3%|▎         | 1/38 [00:00<00:03,  9.62it/s]"
     ]
    },
    {
     "name": "stdout",
     "output_type": "stream",
     "text": [
      "softmax :  tensor([79.5131, 11.9885,  0.4942,  1.3059,  5.3782,  1.3201], device='cuda:0',\n",
      "       grad_fn=<MulBackward0>)\n"
     ]
    },
    {
     "name": "stderr",
     "output_type": "stream",
     "text": [
      "100%|██████████| 38/38 [00:04<00:00,  9.59it/s]\n",
      "  3%|▎         | 1/38 [00:00<00:03,  9.63it/s]"
     ]
    },
    {
     "name": "stdout",
     "output_type": "stream",
     "text": [
      "softmax :  tensor([74.0194, 14.5874,  0.7135,  2.2366,  6.4509,  1.9922], device='cuda:0',\n",
      "       grad_fn=<MulBackward0>)\n"
     ]
    },
    {
     "name": "stderr",
     "output_type": "stream",
     "text": [
      "100%|██████████| 38/38 [00:04<00:00,  7.45it/s]\n",
      "  3%|▎         | 1/38 [00:00<00:03,  9.61it/s]"
     ]
    },
    {
     "name": "stdout",
     "output_type": "stream",
     "text": [
      "softmax :  tensor([73.7636, 14.5703,  0.7137,  2.2009,  6.7444,  2.0071], device='cuda:0',\n",
      "       grad_fn=<MulBackward0>)\n"
     ]
    },
    {
     "name": "stderr",
     "output_type": "stream",
     "text": [
      "100%|██████████| 38/38 [00:04<00:00,  9.56it/s]\n",
      "  3%|▎         | 1/38 [00:00<00:03,  9.64it/s]"
     ]
    },
    {
     "name": "stdout",
     "output_type": "stream",
     "text": [
      "softmax :  tensor([75.5993, 13.2535,  0.7206,  2.1043,  6.6348,  1.6874], device='cuda:0',\n",
      "       grad_fn=<MulBackward0>)\n"
     ]
    },
    {
     "name": "stderr",
     "output_type": "stream",
     "text": [
      "100%|██████████| 38/38 [00:04<00:00,  9.65it/s]\n",
      "  3%|▎         | 1/38 [00:00<00:03,  9.63it/s]"
     ]
    },
    {
     "name": "stdout",
     "output_type": "stream",
     "text": [
      "softmax :  tensor([80.2224, 10.8822,  0.5180,  1.5214,  5.3878,  1.4682], device='cuda:0',\n",
      "       grad_fn=<MulBackward0>)\n"
     ]
    },
    {
     "name": "stderr",
     "output_type": "stream",
     "text": [
      "100%|██████████| 38/38 [00:04<00:00,  9.67it/s]"
     ]
    },
    {
     "name": "stdout",
     "output_type": "stream",
     "text": [
      "softmax :  tensor([73.8099, 14.0669,  0.7210,  2.2591,  7.1271,  2.0161], device='cuda:0',\n",
      "       grad_fn=<MulBackward0>)\n"
     ]
    },
    {
     "name": "stderr",
     "output_type": "stream",
     "text": [
      "\n"
     ]
    }
   ],
   "source": [
    "\n",
    "# 신경망의 모든 파라미터를 GPU로 전송\n",
    "net.to(\"cuda\")\n",
    "\n",
    "# 훈련 실행\n",
    "train_net(net, train_loader, n_iter=100,optimizer_cls = optim.SGD , learning_rate = 0.05, device=\"cuda\")\n",
    "torch.save(net.state_dict(), \"./submission/pretrained_실내활동.pt\")"
   ]
  },
  {
   "cell_type": "code",
   "execution_count": null,
   "metadata": {},
   "outputs": [],
   "source": []
  }
 ],
 "metadata": {
  "interpreter": {
   "hash": "d36e052b391be8c28b05838ade06426769a29575d5fe21a7bc69c7dec0c04c06"
  },
  "kernelspec": {
   "display_name": "Python 3.7.11 64-bit ('segmentation': conda)",
   "name": "python3"
  },
  "language_info": {
   "codemirror_mode": {
    "name": "ipython",
    "version": 3
   },
   "file_extension": ".py",
   "mimetype": "text/x-python",
   "name": "python",
   "nbconvert_exporter": "python",
   "pygments_lexer": "ipython3",
   "version": "3.7.11"
  }
 },
 "nbformat": 4,
 "nbformat_minor": 5
}
